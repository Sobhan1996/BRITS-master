{
 "cells": [
  {
   "cell_type": "code",
   "execution_count": 2,
   "metadata": {},
   "outputs": [],
   "source": [
    "%matplotlib inline\n",
    "import pandas as pd\n",
    "import numpy as np\n",
    "import matplotlib.pyplot as plt\n",
    "import seaborn as sns\n",
    "import os\n",
    "import sys\n",
    "\n",
    "sys.path.append('../')\n",
    "sys.path.append('../models')"
   ]
  },
  {
   "cell_type": "markdown",
   "metadata": {},
   "source": [
    "### air_100"
   ]
  },
  {
   "cell_type": "code",
   "execution_count": 3,
   "metadata": {},
   "outputs": [],
   "source": [
    "ds_name = 'air_100'\n",
    "frac_err = 0.1\n",
    "err_type = 'symmetry'\n",
    "error_seed = 1\n",
    "\n",
    "raw_fpath = '../raw/{}_{}{}{}.csv'.format(ds_name, frac_err, err_type, error_seed)\n",
    "delta_fpath = 'result/{}_{}{}{}_delta.csv'.format(ds_name, frac_err, err_type, error_seed)\n",
    "mask_fpath = '../raw/{}_{}{}{}_mask.csv'.format(ds_name, frac_err, err_type, error_seed)\n",
    "\n",
    "df_raw = pd.read_csv(raw_fpath)\n",
    "df_delta = pd.read_csv(delta_fpath)\n",
    "df_mask = pd.read_csv(mask_fpath)\n",
    "\n",
    "attrs = ['pm2.5']"
   ]
  },
  {
   "cell_type": "code",
   "execution_count": 4,
   "metadata": {},
   "outputs": [
    {
     "name": "stdout",
     "output_type": "stream",
     "text": [
      "[  1.18015876  12.168308    23.15645724  34.14460649  45.13275573\n",
      "  56.12090498  67.10905422  78.09720346  89.08535271 100.07350195]\n"
     ]
    }
   ],
   "source": [
    "df_delta[attrs] = abs(df_delta[attrs])\n",
    "attr = 'pm2.5'\n",
    "min_val = min(df_delta[attr])\n",
    "max_val = max(df_delta[attr])\n",
    "\n",
    "taus = np.linspace(min_val, max_val, 10)\n",
    "print(taus)"
   ]
  },
  {
   "cell_type": "code",
   "execution_count": 31,
   "metadata": {},
   "outputs": [
    {
     "name": "stdout",
     "output_type": "stream",
     "text": [
      "          tau   attr\n",
      "0    1.180159  pm2.5\n",
      "1   12.168308  pm2.5\n",
      "2   23.156457  pm2.5\n",
      "3   34.144606  pm2.5\n",
      "4   45.132756  pm2.5\n",
      "5   56.120905  pm2.5\n",
      "6   67.109054  pm2.5\n",
      "7   78.097203  pm2.5\n",
      "8   89.085353  pm2.5\n",
      "9  100.073502  pm2.5\n"
     ]
    }
   ],
   "source": [
    "df_attr_res = pd.DataFrame()\n",
    "df_attr_res['tau'] = taus\n",
    "df_attr_res['attr'] = attr\n",
    "\n",
    "print(df_attr_res)"
   ]
  },
  {
   "cell_type": "code",
   "execution_count": 33,
   "metadata": {},
   "outputs": [
    {
     "name": "stdout",
     "output_type": "stream",
     "text": [
      "   timestamp attribute       delta  is_dirty\n",
      "0         25     pm2.5   58.450760     False\n",
      "1         26     pm2.5   58.460651     False\n",
      "2         27     pm2.5   85.201471     False\n",
      "3         28     pm2.5  100.073502     False\n",
      "4         29     pm2.5   59.508888     False\n",
      "          tau   attr  precision  recall        f1\n",
      "0    1.180159  pm2.5   0.101010     1.0  0.183486\n",
      "1   12.168308  pm2.5   0.108434     0.9  0.193548\n",
      "2   23.156457  pm2.5   0.109589     0.8  0.192771\n",
      "3   34.144606  pm2.5   0.121212     0.8  0.210526\n",
      "4   45.132756  pm2.5   0.140000     0.7  0.233333\n",
      "5   56.120905  pm2.5   0.187500     0.6  0.285714\n",
      "6   67.109054  pm2.5   0.315789     0.6  0.413793\n",
      "7   78.097203  pm2.5   0.363636     0.4  0.380952\n",
      "8   89.085353  pm2.5   0.500000     0.1  0.166667\n",
      "9  100.073502  pm2.5        NaN     0.0       NaN\n"
     ]
    },
    {
     "name": "stderr",
     "output_type": "stream",
     "text": [
      "/anaconda2/envs/tsc37/lib/python3.7/site-packages/ipykernel_launcher.py:20: RuntimeWarning: invalid value encountered in long_scalars\n"
     ]
    }
   ],
   "source": [
    "df_result = pd.DataFrame()\n",
    "\n",
    "df_attr = df_delta[['timestamp', attr]]\n",
    "df_attr_long = df_attr.melt(id_vars='timestamp', var_name='attribute', value_name='delta')\n",
    "\n",
    "df_mask['is_dirty'] = True\n",
    "df_all = df_attr_long.merge(df_mask, on=['timestamp', 'attribute'], how='left')\n",
    "\n",
    "df_all['is_dirty'].fillna(False, inplace=True)\n",
    "fil_dirty = df_all['is_dirty'] == True\n",
    "print(df_all.head(5))\n",
    "\n",
    "precs, recs, f1s = [], [], []\n",
    "\n",
    "for idx, tau in enumerate(taus):\n",
    "    fil_ad = df_all['delta'] > tau\n",
    "\n",
    "    fil_cor = fil_dirty & fil_ad\n",
    "\n",
    "    precision = fil_cor.sum() / fil_ad.sum()\n",
    "    recall = fil_cor.sum() / fil_dirty.sum()\n",
    "    f1 = 2 * precision * recall / (precision + recall)\n",
    "    \n",
    "    precs.append(precision)\n",
    "    recs.append(recall)\n",
    "    f1s.append(f1)\n",
    "\n",
    "df_attr_res['precision'] = precs\n",
    "df_attr_res['recall'] = recs\n",
    "df_attr_res['f1'] = f1s\n",
    "\n",
    "# print(df_attr_res)\n",
    "\n",
    "df_result = pd.concat([df_result, df_attr_res], axis=1, sort=False)\n",
    "\n",
    "print(df_result)"
   ]
  },
  {
   "cell_type": "code",
   "execution_count": 44,
   "metadata": {},
   "outputs": [
    {
     "name": "stdout",
     "output_type": "stream",
     "text": [
      "         tau   attr     metric  metric_value\n",
      "0   1.180159  pm2.5  precision      0.101010\n",
      "1  12.168308  pm2.5  precision      0.108434\n",
      "2  23.156457  pm2.5  precision      0.109589\n",
      "3  34.144606  pm2.5  precision      0.121212\n",
      "4  45.132756  pm2.5  precision      0.140000\n"
     ]
    }
   ],
   "source": [
    "df_result_long = df_result.melt(id_vars=['tau', 'attr'], var_name='metric', value_name='metric_value')\n",
    "print(df_result_long.head(5))"
   ]
  },
  {
   "cell_type": "code",
   "execution_count": 42,
   "metadata": {},
   "outputs": [
    {
     "data": {
      "text/plain": [
       "<seaborn.axisgrid.FacetGrid at 0x118eb1510>"
      ]
     },
     "execution_count": 42,
     "metadata": {},
     "output_type": "execute_result"
    },
    {
     "data": {
      "image/png": "[encoded data removed]",
      "text/plain": [
       "<Figure size 441.375x360 with 1 Axes>"
      ]
     },
     "metadata": {
      "needs_background": "light"
     },
     "output_type": "display_data"
    }
   ],
   "source": [
    "sns.relplot(x='tau', y='value', hue='metric', style='metric', kind='line', markers=True, data=df_result_long)"
   ]
  },
  {
   "cell_type": "code",
   "execution_count": 55,
   "metadata": {},
   "outputs": [
    {
     "data": {
      "image/png": "[encoded data removed]",
      "text/plain": [
       "<Figure size 432x288 with 1 Axes>"
      ]
     },
     "metadata": {
      "needs_background": "light"
     },
     "output_type": "display_data"
    }
   ],
   "source": [
    "ax = sns.lineplot(x='tau', y='metric_value', hue='metric', style='metric', markers=True, data=df_result_long)\n",
    "ax.set_title('Result on varying threshold $\\\\tau$ on Attribute pm2.5')\n",
    "ax.set_xlabel('Threshold $\\\\tau$')\n",
    "ax.set_ylabel('Metric_value')\n",
    "\n",
    "fig_save = plt.gcf() # 'get current figure'\n",
    "fig_save.savefig('/Users/stoke/Desktop/BRITS_{attr}.pdf'.format(attr='pm2.5'),dpi=400,bbox_inches='tight')"
   ]
  },
  {
   "cell_type": "markdown",
   "metadata": {},
   "source": [
    "### air_all statistics"
   ]
  },
  {
   "cell_type": "code",
   "execution_count": 113,
   "metadata": {},
   "outputs": [],
   "source": [
    "ds_name = 'air_all'\n",
    "epochs = 10\n",
    "raw_fpath = '../raw/{}.csv'.format(ds_name)\n",
    "delta_fpath = 'result/{}_delta_e{}.csv'.format(ds_name, epochs)\n",
    "\n",
    "df_raw = pd.read_csv(raw_fpath)\n",
    "df_delta = pd.read_csv(delta_fpath)\n",
    "attrs = ['pm2.5']"
   ]
  },
  {
   "cell_type": "code",
   "execution_count": 114,
   "metadata": {},
   "outputs": [
    {
     "name": "stdout",
     "output_type": "stream",
     "text": [
      "pm2.5    13.320343\n",
      "dtype: float64\n"
     ]
    }
   ],
   "source": [
    "df_delta[attrs] = abs(df_delta[attrs])\n",
    "mean = df_delta[attrs].mean(axis=0)\n",
    "print(mean)"
   ]
  },
  {
   "cell_type": "code",
   "execution_count": 60,
   "metadata": {},
   "outputs": [],
   "source": [
    "ds_name = 'air_all'\n",
    "frac_err = 0.1\n",
    "err_type = 'symmetry'\n",
    "error_seed = 1\n",
    "epochs = 10\n",
    "\n",
    "raw_fpath = '../raw/{}_{}{}{}.csv'.format(ds_name, frac_err, err_type, error_seed)\n",
    "delta_fpath = 'result/{}_{}{}{}_delta_e{}.csv'.format(ds_name, frac_err, err_type, error_seed, epochs)\n",
    "mask_fpath = '../raw/{}_{}{}{}_mask.csv'.format(ds_name, frac_err, err_type, error_seed)\n",
    "df_raw = pd.read_csv(raw_fpath)\n",
    "df_delta = pd.read_csv(delta_fpath)\n",
    "df_mask = pd.read_csv(mask_fpath)"
   ]
  },
  {
   "cell_type": "code",
   "execution_count": 79,
   "metadata": {},
   "outputs": [],
   "source": [
    "attr = 'pm2.5'\n",
    "df_delta[attr] = abs(df_delta[attr])\n",
    "df_attr = df_delta[['timestamp', attr]]\n",
    "df_attr_long = df_attr.melt(id_vars='timestamp', var_name='attribute', value_name='delta')\n",
    "df_mask['is_dirty'] = True\n",
    "df_all = df_attr_long.merge(df_mask, on=['timestamp', 'attribute'], how='left')\n",
    "df_all['is_dirty'].fillna(False, inplace=True)"
   ]
  },
  {
   "cell_type": "code",
   "execution_count": 86,
   "metadata": {},
   "outputs": [
    {
     "name": "stdout",
     "output_type": "stream",
     "text": [
      "<pandas.core.groupby.generic.DataFrameGroupBy object at 0x11a8ad250>\n",
      "is_dirty\n",
      "False     46.281288\n",
      "True     795.741107\n",
      "Name: delta, dtype: float64\n",
      "<class 'pandas.core.series.Series'>\n"
     ]
    }
   ],
   "source": [
    "df_group = df_all.groupby('is_dirty')\n",
    "means = df_group['delta'].mean()\n",
    "\n",
    "print(means)\n",
    "print(type(means))"
   ]
  },
  {
   "cell_type": "code",
   "execution_count": 95,
   "metadata": {},
   "outputs": [
    {
     "data": {
      "text/plain": [
       "count    37575.000000\n",
       "mean        46.281288\n",
       "std         44.854285\n",
       "min          0.005134\n",
       "25%         16.474253\n",
       "50%         35.337568\n",
       "75%         62.226526\n",
       "max        849.038993\n",
       "Name: delta, dtype: float64"
      ]
     },
     "execution_count": 95,
     "metadata": {},
     "output_type": "execute_result"
    }
   ],
   "source": [
    "df_dirty = df_all.loc[df_all['is_dirty'] == False]\n",
    "df_dirty['delta'].describe()"
   ]
  },
  {
   "cell_type": "markdown",
   "metadata": {},
   "source": [
    "### air_all figure"
   ]
  },
  {
   "cell_type": "code",
   "execution_count": 96,
   "metadata": {},
   "outputs": [],
   "source": [
    "ds_name = 'air_all'\n",
    "frac_err = 0.1\n",
    "err_type = 'symmetry'\n",
    "error_seed = 1\n",
    "epochs = 10\n",
    "\n",
    "raw_fpath = '../raw/{}_{}{}{}.csv'.format(ds_name, frac_err, err_type, error_seed)\n",
    "delta_fpath = 'result/{}_{}{}{}_delta_e{}.csv'.format(ds_name, frac_err, err_type, error_seed, epochs)\n",
    "mask_fpath = '../raw/{}_{}{}{}_mask.csv'.format(ds_name, frac_err, err_type, error_seed)\n",
    "df_raw = pd.read_csv(raw_fpath)\n",
    "df_delta = pd.read_csv(delta_fpath)\n",
    "df_mask = pd.read_csv(mask_fpath)"
   ]
  },
  {
   "cell_type": "code",
   "execution_count": 109,
   "metadata": {},
   "outputs": [
    {
     "name": "stdout",
     "output_type": "stream",
     "text": [
      "[5.13433321e-03 3.52100078e+01 7.04148813e+01 1.05619755e+02\n",
      " 1.40824628e+02 1.76029502e+02 2.11234375e+02 2.46439249e+02\n",
      " 2.81644122e+02 3.16848996e+02 3.52053869e+02 3.87258743e+02\n",
      " 4.22463616e+02 4.57668490e+02 4.92873363e+02 5.28078237e+02\n",
      " 5.63283110e+02 5.98487984e+02 6.33692857e+02 6.68897731e+02\n",
      " 7.04102604e+02 7.39307478e+02 7.74512352e+02 8.09717225e+02\n",
      " 8.44922099e+02 8.80126972e+02 9.15331846e+02 9.50536719e+02\n",
      " 9.85741593e+02 1.02094647e+03]\n",
      "[200.         221.05263158 242.10526316 263.15789474 284.21052632\n",
      " 305.26315789 326.31578947 347.36842105 368.42105263 389.47368421\n",
      " 410.52631579 431.57894737 452.63157895 473.68421053 494.73684211\n",
      " 515.78947368 536.84210526 557.89473684 578.94736842 600.        ]\n",
      "          tau   attr\n",
      "0  200.000000  pm2.5\n",
      "1  221.052632  pm2.5\n",
      "2  242.105263  pm2.5\n",
      "3  263.157895  pm2.5\n",
      "4  284.210526  pm2.5\n"
     ]
    }
   ],
   "source": [
    "attrs = ['pm2.5']\n",
    "df_delta[attrs] = abs(df_delta[attrs])\n",
    "attr = 'pm2.5'\n",
    "min_val = min(df_delta[attr])\n",
    "max_val = max(df_delta[attr])\n",
    "\n",
    "taus = np.linspace(min_val, max_val, 30)\n",
    "print(taus)\n",
    "\n",
    "taus = np.linspace(200, 600, 20)\n",
    "print(taus)\n",
    "\n",
    "df_attr_res = pd.DataFrame()\n",
    "df_attr_res['tau'] = taus\n",
    "df_attr_res['attr'] = attr\n",
    "\n",
    "print(df_attr_res.head(5))"
   ]
  },
  {
   "cell_type": "code",
   "execution_count": 110,
   "metadata": {},
   "outputs": [
    {
     "name": "stdout",
     "output_type": "stream",
     "text": [
      "   timestamp attribute       delta  is_dirty\n",
      "0         25     pm2.5   38.157848     False\n",
      "1         26     pm2.5   24.257135     False\n",
      "2         27     pm2.5    9.127271     False\n",
      "3         28     pm2.5  658.337697      True\n",
      "4         29     pm2.5   17.169835     False\n",
      "           tau   attr  precision    recall        f1\n",
      "0   200.000000  pm2.5   0.889529  0.999042  0.941110\n",
      "1   221.052632  pm2.5   0.923793  0.998802  0.959834\n",
      "2   242.105263  pm2.5   0.946412  0.998323  0.971675\n",
      "3   263.157895  pm2.5   0.960129  0.997844  0.978623\n",
      "4   284.210526  pm2.5   0.971302  0.997126  0.984044\n",
      "5   305.263158  pm2.5   0.979275  0.995928  0.987531\n",
      "6   326.315789  pm2.5   0.985046  0.994012  0.989509\n",
      "7   347.368421  pm2.5   0.989735  0.993054  0.991392\n",
      "8   368.421053  pm2.5   0.992324  0.990898  0.991611\n",
      "9   389.473684  pm2.5   0.993741  0.988743  0.991235\n",
      "10  410.526316  pm2.5   0.994925  0.986108  0.990497\n",
      "11  431.578947  pm2.5   0.995391  0.982754  0.989032\n",
      "12  452.631579  pm2.5   0.996341  0.978204  0.987189\n",
      "13  473.684211  pm2.5   0.996320  0.972695  0.984366\n",
      "14  494.736842  pm2.5   0.996298  0.966946  0.981403\n",
      "15  515.789474  pm2.5   0.996758  0.957365  0.976665\n",
      "16  536.842105  pm2.5   0.996730  0.948982  0.972270\n",
      "17  557.894737  pm2.5   0.997202  0.938922  0.967185\n",
      "18  578.947368  pm2.5   0.998194  0.926707  0.961123\n",
      "19  600.000000  pm2.5   0.998168  0.913293  0.953846\n"
     ]
    }
   ],
   "source": [
    "df_result = pd.DataFrame()\n",
    "\n",
    "df_attr = df_delta[['timestamp', attr]]\n",
    "df_attr_long = df_attr.melt(id_vars='timestamp', var_name='attribute', value_name='delta')\n",
    "\n",
    "df_mask['is_dirty'] = True\n",
    "df_all = df_attr_long.merge(df_mask, on=['timestamp', 'attribute'], how='left')\n",
    "\n",
    "df_all['is_dirty'].fillna(False, inplace=True)\n",
    "fil_dirty = df_all['is_dirty'] == True\n",
    "print(df_all.head(5))\n",
    "\n",
    "precs, recs, f1s = [], [], []\n",
    "\n",
    "for idx, tau in enumerate(taus):\n",
    "    fil_ad = df_all['delta'] > tau\n",
    "\n",
    "    fil_cor = fil_dirty & fil_ad\n",
    "\n",
    "    precision = fil_cor.sum() / fil_ad.sum()\n",
    "    recall = fil_cor.sum() / fil_dirty.sum()\n",
    "    f1 = 2 * precision * recall / (precision + recall)\n",
    "    \n",
    "    precs.append(precision)\n",
    "    recs.append(recall)\n",
    "    f1s.append(f1)\n",
    "\n",
    "df_attr_res['precision'] = precs\n",
    "df_attr_res['recall'] = recs\n",
    "df_attr_res['f1'] = f1s\n",
    "\n",
    "# print(df_attr_res)\n",
    "\n",
    "df_result = pd.concat([df_result, df_attr_res], axis=1, sort=False)\n",
    "\n",
    "print(df_result)"
   ]
  },
  {
   "cell_type": "code",
   "execution_count": 111,
   "metadata": {},
   "outputs": [
    {
     "name": "stdout",
     "output_type": "stream",
     "text": [
      "          tau   attr     metric  metric_value\n",
      "0  200.000000  pm2.5  precision      0.889529\n",
      "1  221.052632  pm2.5  precision      0.923793\n",
      "2  242.105263  pm2.5  precision      0.946412\n",
      "3  263.157895  pm2.5  precision      0.960129\n",
      "4  284.210526  pm2.5  precision      0.971302\n"
     ]
    }
   ],
   "source": [
    "df_result_long = df_result.melt(id_vars=['tau', 'attr'], var_name='metric', value_name='metric_value')\n",
    "print(df_result_long.head(5))"
   ]
  },
  {
   "cell_type": "code",
   "execution_count": 112,
   "metadata": {},
   "outputs": [
    {
     "data": {
      "image/png": "[encoded data removed]",
      "text/plain": [
       "<Figure size 432x288 with 1 Axes>"
      ]
     },
     "metadata": {
      "needs_background": "light"
     },
     "output_type": "display_data"
    }
   ],
   "source": [
    "ax = sns.lineplot(x='tau', y='metric_value', hue='metric', style='metric', markers=True, data=df_result_long)\n",
    "ax.set_title('Result on varying threshold $\\\\tau$ on Attribute pm2.5')\n",
    "ax.set_xlabel('Threshold $\\\\tau$')\n",
    "ax.set_ylabel('Metric_value')\n",
    "\n",
    "fig_save = plt.gcf() # 'get current figure'\n",
    "fig_save.savefig('/Users/stoke/Desktop/BRITS_{attr}_2.pdf'.format(attr='pm2.5'),dpi=400,bbox_inches='tight')"
   ]
  },
  {
   "cell_type": "code",
   "execution_count": 5,
   "metadata": {},
   "outputs": [
    {
     "name": "stdout",
     "output_type": "stream",
     "text": [
      "1449\n",
      "23\n",
      "3969\n",
      "63\n"
     ]
    }
   ],
   "source": [
    "for k in range(1, 100):\n",
    "    val = 63 * k\n",
    "    \n",
    "    if val % 8 == 1:\n",
    "        if val % 6 == 3:\n",
    "            if val % 5 == 4:\n",
    "                print(val)\n",
    "                print(k)"
   ]
  },
  {
   "cell_type": "code",
   "execution_count": null,
   "metadata": {},
   "outputs": [],
   "source": []
  }
 ],
 "metadata": {
  "kernelspec": {
   "display_name": "tsc37",
   "language": "python",
   "name": "tsc37"
  },
  "language_info": {
   "codemirror_mode": {
    "name": "ipython",
    "version": 3
   },
   "file_extension": ".py",
   "mimetype": "text/x-python",
   "name": "python",
   "nbconvert_exporter": "python",
   "pygments_lexer": "ipython3",
   "version": "3.7.5"
  },
  "pycharm": {
   "stem_cell": {
    "cell_type": "raw",
    "metadata": {
     "collapsed": false
    },
    "source": []
   }
  }
 },
 "nbformat": 4,
 "nbformat_minor": 1
}
